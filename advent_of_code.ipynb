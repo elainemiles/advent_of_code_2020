{
 "cells": [
  {
   "cell_type": "markdown",
   "metadata": {},
   "source": [
    "# Advent of Code"
   ]
  },
  {
   "cell_type": "code",
   "execution_count": 1,
   "metadata": {},
   "outputs": [],
   "source": [
    "import os\n",
    "import re\n",
    "from collections import deque\n",
    "from itertools import combinations \n",
    "import numpy as np"
   ]
  },
  {
   "cell_type": "markdown",
   "metadata": {},
   "source": [
    "## Day 1"
   ]
  },
  {
   "cell_type": "code",
   "execution_count": 2,
   "metadata": {},
   "outputs": [
    {
     "name": "stdout",
     "output_type": "stream",
     "text": [
      "(684, 1336) 913824\n",
      "(1068, 444, 508) 240889536\n"
     ]
    }
   ],
   "source": [
    "fname = os.path.join(\"data\", \"aoc.1.1_input.txt\" )\n",
    "data = [int(x) for x in open(fname, 'r').read().splitlines()]\n",
    "\n",
    "def budget(data, n):\n",
    "    comb = combinations(data, n) \n",
    "    for y in comb:\n",
    "        if sum(y) == 2020:\n",
    "            print(y, np.prod(y))\n",
    "\n",
    "budget(data,2)\n",
    "budget(data,3)"
   ]
  },
  {
   "cell_type": "markdown",
   "metadata": {},
   "source": [
    "## Day 2"
   ]
  },
  {
   "cell_type": "code",
   "execution_count": 3,
   "metadata": {},
   "outputs": [
    {
     "name": "stdout",
     "output_type": "stream",
     "text": [
      "418\n",
      "616\n"
     ]
    }
   ],
   "source": [
    "fname = os.path.join(\"data\", \"aoc.2.1_input.txt\" )\n",
    "data = [re.split('-| |: ', x) for x in open(fname, 'r').read().splitlines()]\n",
    "\n",
    "\"Part 1\"\n",
    "d = 0\n",
    "for x in data:\n",
    "    c = x[-1].count(x[-2])\n",
    "    if int(x[0]) <= c <= int(x[1]):\n",
    "        d +=1     \n",
    "print(d)\n",
    "\n",
    "\"Part 2\"\n",
    "d = 0\n",
    "for x in data:\n",
    "    s = x[-1]\n",
    "    if (s[int(x[0])-1] == x[-2]) !=( s[int(x[1])-1] == x[-2]):\n",
    "        d +=1\n",
    "print(d)"
   ]
  },
  {
   "cell_type": "markdown",
   "metadata": {},
   "source": [
    "## Day 3"
   ]
  },
  {
   "cell_type": "code",
   "execution_count": 4,
   "metadata": {},
   "outputs": [
    {
     "name": "stdout",
     "output_type": "stream",
     "text": [
      "274\n",
      "6050183040\n"
     ]
    }
   ],
   "source": [
    "fname = os.path.join(\"data\", \"aoc.3.1_input.txt\" )\n",
    "data = open(fname, 'r').read().splitlines()\n",
    "\n",
    "def hit_trees(data=data, across=3, down=1):\n",
    "    d = 0\n",
    "    for ix, x in enumerate(data[::down]):\n",
    "        items = deque(x)\n",
    "        items.rotate(-across * ix)\n",
    "        if items[0] == \"#\":\n",
    "            d+=1\n",
    "    return d\n",
    "\n",
    "\"Part 1\"\n",
    "print(hit_trees()) #274\n",
    "\n",
    "\"Part 2\"\n",
    "a_list = [[1,1], [3,1], [5,1], [7,1], [1,2]]\n",
    "print(np.prod([ hit_trees(data, across=a[0], down=a[1]) for a in a_list])) #6050183040"
   ]
  },
  {
   "cell_type": "markdown",
   "metadata": {},
   "source": [
    "## Day 4"
   ]
  },
  {
   "cell_type": "code",
   "execution_count": 5,
   "metadata": {},
   "outputs": [
    {
     "name": "stdout",
     "output_type": "stream",
     "text": [
      "210\n"
     ]
    }
   ],
   "source": [
    "\"Process Data\"\n",
    "fname = os.path.join(\"data\", \"aoc.4.1_input.txt\" )\n",
    "with open(fname, 'r') as file:\n",
    "    data = file.read().split('\\n\\n')\n",
    "    \n",
    "tmp = [x.rstrip().replace(\"\\n\", \",\").replace(\" \", \",\") for x in data]\n",
    "convert_dict = lambda y : {i.split(':')[0]: i.split(':')[1] for i in y.split(\",\")}\n",
    "result = [convert_dict(x) for x in tmp]\n",
    "\n",
    "\"Part 1\"\n",
    "required_keys = [\"byr\", \"iyr\", \"eyr\", \"hgt\", \"hcl\", \"ecl\", \"pid\"]\n",
    "print(sum([all(item in y.keys() for item in required_keys) for y in result])) #210"
   ]
  },
  {
   "cell_type": "code",
   "execution_count": 6,
   "metadata": {},
   "outputs": [
    {
     "name": "stdout",
     "output_type": "stream",
     "text": [
      "131\n"
     ]
    }
   ],
   "source": [
    "\"Part 2\"\n",
    "def valid_check(d):\n",
    "    try:\n",
    "        a = \\\n",
    "        (1920 <= int(d[\"byr\"]) <= 2002) and \\\n",
    "        (2010 <= int(d[\"iyr\"]) <= 2020) and \\\n",
    "        (2020 <= int(d[\"eyr\"]) <= 2030) and \\\n",
    "        bool(re.match(\"^\\d{9}$\", d['pid'])) and \\\n",
    "        (d['ecl'] in [\"amb\", \"blu\", \"brn\", \"gry\", \"grn\", \"hzl\", \"oth\"]) and \\\n",
    "        bool(re.match(\"#[a-f0-9]{6}$\", d['hcl'])) and \\\n",
    "        ((d['hgt'][-2:] == \"cm\" and 150 <= int(d['hgt'][:-2]) <= 193) or (d['hgt'][-2:] == \"in\" and 59 <= int(d['hgt'][:-2]) <= 76)) \n",
    "    except:\n",
    "        a = False\n",
    "    return a\n",
    "\n",
    "print(sum([valid_check(y) for y in result])) #131"
   ]
  },
  {
   "cell_type": "markdown",
   "metadata": {},
   "source": [
    "## Day 5"
   ]
  },
  {
   "cell_type": "code",
   "execution_count": 7,
   "metadata": {},
   "outputs": [
    {
     "name": "stdout",
     "output_type": "stream",
     "text": [
      "848\n",
      "{682}\n"
     ]
    }
   ],
   "source": [
    "fname = os.path.join(\"data\", \"aoc.5.1_input.txt\" )\n",
    "data = open(fname, 'r').read().splitlines()\n",
    "\n",
    "\"Turns out this is a pretty brute force method.  Next time use int(x,2)\"\n",
    "def get_row_col_id(c):\n",
    "    \"ROW\"\n",
    "    row = list(range(128))\n",
    "    for i in c[:7]:\n",
    "        if i == \"F\":\n",
    "            row = row[:len(row)//2]\n",
    "        else:\n",
    "            row = row[len(row)//2:]\n",
    "    \"COL\"\n",
    "    col = list(range(8))\n",
    "    for i in c[-3:]:\n",
    "        if i == \"R\":\n",
    "            col = col[len(col)//2:]\n",
    "        else:\n",
    "            col = col[:len(col)//2]\n",
    "\n",
    "    return (row[0], col[0], row[0] * 8 + col[0])\n",
    "\n",
    "# print(get_row_col_id('BFFFBBFRRR')) # BFFFBBFRRR: row 70, column 7, seat ID 567.\n",
    "# print(get_row_col_id('FFFBBBFRRR')) # FFFBBBFRRR: row 14, column 7, seat ID 119.\n",
    "# print(get_row_col_id('BBFFBBFRLL')) # BBFFBBFRLL: row 102, column 4, seat ID 820.\n",
    "\n",
    "\"Part 1\"\n",
    "print(max([get_row_col_id(d)[2] for d in data]))\n",
    "\n",
    "\"Part 2\"\n",
    "a = [get_row_col_id(d)[2] for d in data]\n",
    "print(set(range(min(a), max(a)+1)).difference(set(a)))"
   ]
  },
  {
   "cell_type": "markdown",
   "metadata": {},
   "source": [
    "## Day 6"
   ]
  },
  {
   "cell_type": "code",
   "execution_count": 8,
   "metadata": {},
   "outputs": [
    {
     "name": "stdout",
     "output_type": "stream",
     "text": [
      "6590\n",
      "3288\n"
     ]
    }
   ],
   "source": [
    "fname = os.path.join(\"data\", \"aoc.6.1_input.txt\" )\n",
    "with open(fname, 'r') as file:\n",
    "    raw_data = file.read().split('\\n\\n')\n",
    "    \n",
    "raw_data = [x.rstrip().split(\"\\n\") for x in raw_data]\n",
    "\n",
    "\"Part 1\"\n",
    "print(sum([len(set(\"\".join(x))) for x in raw_data])) #6590\n",
    "\n",
    "\"Part 2\"\n",
    "print(sum([len(set.intersection(*map(set, x))) for x in raw_data])) #3288"
   ]
  },
  {
   "cell_type": "markdown",
   "metadata": {},
   "source": [
    "## Day 7"
   ]
  },
  {
   "cell_type": "code",
   "execution_count": null,
   "metadata": {},
   "outputs": [],
   "source": []
  }
 ],
 "metadata": {
  "kernelspec": {
   "display_name": "Python 3",
   "language": "python",
   "name": "python3"
  },
  "language_info": {
   "codemirror_mode": {
    "name": "ipython",
    "version": 3
   },
   "file_extension": ".py",
   "mimetype": "text/x-python",
   "name": "python",
   "nbconvert_exporter": "python",
   "pygments_lexer": "ipython3",
   "version": "3.8.6"
  }
 },
 "nbformat": 4,
 "nbformat_minor": 4
}
