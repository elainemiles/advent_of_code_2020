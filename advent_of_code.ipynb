{
 "cells": [
  {
   "cell_type": "markdown",
   "metadata": {},
   "source": [
    "# Advent of Code"
   ]
  },
  {
   "cell_type": "markdown",
   "metadata": {},
   "source": [
    "[Leader Board](https://adventofcode.com/2020/leaderboard/private/view/789658)\n",
    "\n",
    "[Calendar](https://adventofcode.com/2020)"
   ]
  },
  {
   "cell_type": "code",
   "execution_count": 1,
   "metadata": {},
   "outputs": [],
   "source": [
    "import os\n",
    "import re\n",
    "from collections import deque, defaultdict\n",
    "from itertools import combinations \n",
    "import numpy as np\n",
    "import copy\n",
    "import re\n",
    "import networkx as nx"
   ]
  },
  {
   "cell_type": "markdown",
   "metadata": {},
   "source": [
    "## Day 1"
   ]
  },
  {
   "cell_type": "code",
   "execution_count": 2,
   "metadata": {},
   "outputs": [
    {
     "name": "stdout",
     "output_type": "stream",
     "text": [
      "(684, 1336) 913824\n",
      "(1068, 444, 508) 240889536\n"
     ]
    }
   ],
   "source": [
    "fname = os.path.join(\"data\", \"aoc.1.1_input.txt\" )\n",
    "data = [int(x) for x in open(fname, 'r').read().splitlines()]\n",
    "\n",
    "def budget(data, n):\n",
    "    for y in combinations(data, n) :\n",
    "        if sum(y) == 2020:\n",
    "            print(y, np.prod(y))\n",
    "\n",
    "budget(data,2) #(684, 1336) 913824\n",
    "budget(data,3) #(1068, 444, 508) 240889536"
   ]
  },
  {
   "cell_type": "markdown",
   "metadata": {},
   "source": [
    "## Day 2"
   ]
  },
  {
   "cell_type": "code",
   "execution_count": 3,
   "metadata": {},
   "outputs": [
    {
     "name": "stdout",
     "output_type": "stream",
     "text": [
      "418\n",
      "616\n"
     ]
    }
   ],
   "source": [
    "fname = os.path.join(\"data\", \"aoc.2.1_input.txt\" )\n",
    "data = [re.split('-| |: ', x) for x in open(fname, 'r').read().splitlines()]\n",
    "\n",
    "\"Part 1\" #418\n",
    "d = 0\n",
    "for x in data:\n",
    "    c = x[-1].count(x[-2])\n",
    "    if int(x[0]) <= c <= int(x[1]):\n",
    "        d +=1     \n",
    "print(d)\n",
    "\n",
    "\"Part 2\" #616\n",
    "d = 0\n",
    "for x in data:\n",
    "    s = x[-1]\n",
    "    if (s[int(x[0])-1] == x[-2]) !=( s[int(x[1])-1] == x[-2]):\n",
    "        d +=1\n",
    "print(d)"
   ]
  },
  {
   "cell_type": "markdown",
   "metadata": {},
   "source": [
    "## Day 3"
   ]
  },
  {
   "cell_type": "code",
   "execution_count": 4,
   "metadata": {},
   "outputs": [
    {
     "name": "stdout",
     "output_type": "stream",
     "text": [
      "274\n",
      "6050183040\n"
     ]
    }
   ],
   "source": [
    "fname = os.path.join(\"data\", \"aoc.3.1_input.txt\" )\n",
    "data = open(fname, 'r').read().splitlines()\n",
    "\n",
    "def hit_trees(data=data, across=3, down=1):\n",
    "    d = 0\n",
    "    for ix, x in enumerate(data[::down]):\n",
    "        items = deque(x)\n",
    "        items.rotate(-across * ix)\n",
    "        if items[0] == \"#\":\n",
    "            d+=1\n",
    "    return d\n",
    "\n",
    "\"Part 1\" #274\n",
    "print(hit_trees()) \n",
    "\n",
    "\"Part 2\" #6050183040\n",
    "a_list = [[1,1], [3,1], [5,1], [7,1], [1,2]]\n",
    "print(np.prod([ hit_trees(data, across=a[0], down=a[1]) for a in a_list]))"
   ]
  },
  {
   "cell_type": "markdown",
   "metadata": {},
   "source": [
    "## Day 4"
   ]
  },
  {
   "cell_type": "code",
   "execution_count": 5,
   "metadata": {},
   "outputs": [
    {
     "name": "stdout",
     "output_type": "stream",
     "text": [
      "210\n"
     ]
    }
   ],
   "source": [
    "\"Process Data\"\n",
    "fname = os.path.join(\"data\", \"aoc.4.1_input.txt\" )\n",
    "data = open(fname, 'r').read().split('\\n\\n')\n",
    "    \n",
    "tmp = [x.rstrip().replace(\"\\n\", \",\").replace(\" \", \",\") for x in data]\n",
    "convert_dict = lambda y : {i.split(':')[0]: i.split(':')[1] for i in y.split(\",\")}\n",
    "result = [convert_dict(x) for x in tmp]\n",
    "\n",
    "\"Part 1\" #210\n",
    "required_keys = [\"byr\", \"iyr\", \"eyr\", \"hgt\", \"hcl\", \"ecl\", \"pid\"]\n",
    "print(sum([all(item in y.keys() for item in required_keys) for y in result])) #210"
   ]
  },
  {
   "cell_type": "code",
   "execution_count": 6,
   "metadata": {},
   "outputs": [
    {
     "name": "stdout",
     "output_type": "stream",
     "text": [
      "131\n"
     ]
    }
   ],
   "source": [
    "\"Part 2\" #131\n",
    "def valid_check(d):\n",
    "    try:\n",
    "        a = \\\n",
    "        (1920 <= int(d[\"byr\"]) <= 2002) and \\\n",
    "        (2010 <= int(d[\"iyr\"]) <= 2020) and \\\n",
    "        (2020 <= int(d[\"eyr\"]) <= 2030) and \\\n",
    "        bool(re.match(\"^\\d{9}$\", d['pid'])) and \\\n",
    "        (d['ecl'] in [\"amb\", \"blu\", \"brn\", \"gry\", \"grn\", \"hzl\", \"oth\"]) and \\\n",
    "        bool(re.match(\"#[a-f0-9]{6}$\", d['hcl'])) and \\\n",
    "        ((d['hgt'][-2:] == \"cm\" and 150 <= int(d['hgt'][:-2]) <= 193) or (d['hgt'][-2:] == \"in\" and 59 <= int(d['hgt'][:-2]) <= 76)) \n",
    "    except:\n",
    "        a = False\n",
    "    return a\n",
    "\n",
    "print(sum([valid_check(y) for y in result])) #131"
   ]
  },
  {
   "cell_type": "markdown",
   "metadata": {},
   "source": [
    "## Day 5"
   ]
  },
  {
   "cell_type": "code",
   "execution_count": 7,
   "metadata": {},
   "outputs": [
    {
     "name": "stdout",
     "output_type": "stream",
     "text": [
      "848\n",
      "{682}\n"
     ]
    }
   ],
   "source": [
    "fname = os.path.join(\"data\", \"aoc.5.1_input.txt\" )\n",
    "data = open(fname, 'r').read().splitlines()\n",
    "\n",
    "\"Turns out this is a pretty brute force method.  Next time use int(x,2)\"\n",
    "def get_row_col_id(c):\n",
    "    \"ROW\"\n",
    "    row = list(range(128))\n",
    "    for i in c[:7]:\n",
    "        if i == \"F\":\n",
    "            row = row[:len(row)//2]\n",
    "        else:\n",
    "            row = row[len(row)//2:]\n",
    "    \"COL\"\n",
    "    col = list(range(8))\n",
    "    for i in c[-3:]:\n",
    "        if i == \"R\":\n",
    "            col = col[len(col)//2:]\n",
    "        else:\n",
    "            col = col[:len(col)//2]\n",
    "\n",
    "    return (row[0], col[0], row[0] * 8 + col[0])\n",
    "\n",
    "# print(get_row_col_id('BFFFBBFRRR')) # BFFFBBFRRR: row 70, column 7, seat ID 567.\n",
    "# print(get_row_col_id('FFFBBBFRRR')) # FFFBBBFRRR: row 14, column 7, seat ID 119.\n",
    "# print(get_row_col_id('BBFFBBFRLL')) # BBFFBBFRLL: row 102, column 4, seat ID 820.\n",
    "\n",
    "\"Part 1\" #848\n",
    "print(max([get_row_col_id(d)[2] for d in data]))\n",
    "\n",
    "\"Part 2\" #682\n",
    "a = [get_row_col_id(d)[2] for d in data]\n",
    "print(set(range(min(a), max(a)+1)).difference(set(a)))"
   ]
  },
  {
   "cell_type": "markdown",
   "metadata": {},
   "source": [
    "## Day 6"
   ]
  },
  {
   "cell_type": "code",
   "execution_count": 8,
   "metadata": {},
   "outputs": [
    {
     "name": "stdout",
     "output_type": "stream",
     "text": [
      "6590\n",
      "3288\n"
     ]
    }
   ],
   "source": [
    "fname = os.path.join(\"data\", \"aoc.6.1_input.txt\" )\n",
    "with open(fname, 'r') as file:\n",
    "    raw_data = file.read().split('\\n\\n')\n",
    "    \n",
    "raw_data = [list(map(set, x.rstrip().split(\"\\n\"))) for x in raw_data]\n",
    "\n",
    "\"Part 1\" #6590\n",
    "print(sum([len(set.union(*x)) for x in raw_data]))\n",
    "\n",
    "\"Part 2\" #3288\n",
    "print(sum([len(set.intersection(*x)) for x in raw_data])) "
   ]
  },
  {
   "cell_type": "markdown",
   "metadata": {},
   "source": [
    "## Day 7"
   ]
  },
  {
   "cell_type": "code",
   "execution_count": 9,
   "metadata": {},
   "outputs": [
    {
     "name": "stdout",
     "output_type": "stream",
     "text": [
      "287\n",
      "48160\n"
     ]
    }
   ],
   "source": [
    "fname = os.path.join(\"data\", \"aoc.7.1_input.txt\" )\n",
    "lines = [x.strip() for x in open(fname, 'r').readlines()]\n",
    "\n",
    "\"Process Data\"\n",
    "bags = defaultdict(dict)\n",
    "for l in lines:\n",
    "    bag = l.split(' bags contain ')[0]\n",
    "    for c, b in re.findall(r'(\\d+) (\\w+ \\w+) bag', l):\n",
    "        bags[bag][b] = {'weight' : int(c)}\n",
    "\n",
    "\"Create the Graph\"\n",
    "G = nx.DiGraph(bags)\n",
    "\n",
    "\"For kicks\"\n",
    "# nx.draw(G)\n",
    "# nx.draw(RG)\n",
    "\n",
    "\"Part 1\" #287\n",
    "\"Reverse graph and get top bag that leads to the shiny gold\"\n",
    "RG = G.reverse()\n",
    "print(len(nx.dfs_predecessors(RG, 'shiny gold'))) #287\n",
    "\n",
    "\"Part 2\" #48160\n",
    "def mysearch(bag):\n",
    "    count = 1\n",
    "    \"Look through neighbors of bag\"\n",
    "    for n in G.neighbors(bag):\n",
    "        \"Multiply weight with recursive search\"\n",
    "        count += G[bag][n]['weight'] * mysearch(n)\n",
    "    return count\n",
    "\n",
    "print(mysearch('shiny gold') - 1)"
   ]
  },
  {
   "cell_type": "markdown",
   "metadata": {},
   "source": [
    "## Day 8"
   ]
  },
  {
   "cell_type": "code",
   "execution_count": 10,
   "metadata": {},
   "outputs": [
    {
     "name": "stdout",
     "output_type": "stream",
     "text": [
      "(False, 2003)\n",
      "1984\n"
     ]
    }
   ],
   "source": [
    "fname = os.path.join(\"data\", \"aoc.8.1_input.txt\" )\n",
    "data = [[x.split(\" \")[0],eval(x.split(\" \")[1])]  for x in open(fname, 'r').read().splitlines()]\n",
    "\n",
    "def get_acc(data=data):\n",
    "    accumulator  = 0\n",
    "    pos = 0\n",
    "    touched_list = [0]*len(data)\n",
    "\n",
    "    while touched_list[pos] == 0:\n",
    "        action = data[pos][0]\n",
    "        change = data[pos][1]\n",
    "        touched_list[pos] += 1\n",
    "        if action == 'jmp':\n",
    "            pos += change\n",
    "        elif action == 'acc':\n",
    "            pos += 1\n",
    "            accumulator += change\n",
    "        elif action == 'nop':\n",
    "            pos += 1\n",
    "        if pos +1 > len(data):\n",
    "            return True, accumulator\n",
    "        \n",
    "    return False, accumulator\n",
    "\n",
    "\"Part 1\" #2003\n",
    "print(get_acc())\n",
    "\n",
    "\"Part 2\" #1984\n",
    "for bad, good in [[\"jmp\", \"nop\"], [\"nop\", \"jmp\"]]:\n",
    "    indx = [i for i, x in enumerate(data) if x[0] == bad]\n",
    "    for i in indx:\n",
    "        nop_data = copy.deepcopy(data[:])\n",
    "        nop_data[i][0] = good\n",
    "        success, val = get_acc(nop_data)\n",
    "        if success:\n",
    "            print(val)\n",
    "            break"
   ]
  },
  {
   "cell_type": "markdown",
   "metadata": {},
   "source": [
    "## Day 9"
   ]
  },
  {
   "cell_type": "code",
   "execution_count": 11,
   "metadata": {},
   "outputs": [
    {
     "name": "stdout",
     "output_type": "stream",
     "text": [
      "FOUND INVALID VALUE: 393911906\n",
      "FOUND WEAKSPOT FOR VAL 393911906: 59341885\n"
     ]
    }
   ],
   "source": [
    "fname = os.path.join(\"data\", \"aoc.9.1_input.txt\" )\n",
    "data = [int(x) for x in open(fname, 'r').read().splitlines()]\n",
    "\n",
    "\"Part 1\" #393911906\n",
    "def xmas_validator(d=data, pre=5):\n",
    "    rounds = len(d) - pre\n",
    "    for x in range(rounds):\n",
    "        val = d[pre+x]\n",
    "        valid = False\n",
    "        for y in combinations(d[x: x+pre], 2):         \n",
    "            if sum(y) == val:\n",
    "                valid=True\n",
    "        if not valid:\n",
    "            print(\"FOUND INVALID VALUE:\", val)\n",
    "    return\n",
    "\n",
    "xmas_validator(data, 25) \n",
    "\n",
    "\"Part 2\" #59341885\n",
    "def weakness(d=data, val=393911906):        \n",
    "    for y in combinations(range(len(d)), 2):\n",
    "        new_d = d[y[0]: y[1]]\n",
    "        if sum(new_d) == val:\n",
    "            print(f\"FOUND WEAKSPOT FOR VAL {val}:\", min(new_d) + max(new_d))\n",
    "            return\n",
    "    print(\"NO WEAKSPOT FOUND FOR VAL {val}\")\n",
    "\n",
    "weakness(data, 393911906)"
   ]
  },
  {
   "cell_type": "markdown",
   "metadata": {},
   "source": [
    "## DAY 10"
   ]
  },
  {
   "cell_type": "code",
   "execution_count": 12,
   "metadata": {},
   "outputs": [
    {
     "ename": "FileNotFoundError",
     "evalue": "[Errno 2] No such file or directory: 'data/aoc.10.1_input.txt'",
     "output_type": "error",
     "traceback": [
      "\u001b[0;31m---------------------------------------------------------------------------\u001b[0m",
      "\u001b[0;31mFileNotFoundError\u001b[0m                         Traceback (most recent call last)",
      "\u001b[0;32m<ipython-input-12-b74ba63697a1>\u001b[0m in \u001b[0;36m<module>\u001b[0;34m\u001b[0m\n\u001b[1;32m      1\u001b[0m \u001b[0mfname\u001b[0m \u001b[0;34m=\u001b[0m \u001b[0mos\u001b[0m\u001b[0;34m.\u001b[0m\u001b[0mpath\u001b[0m\u001b[0;34m.\u001b[0m\u001b[0mjoin\u001b[0m\u001b[0;34m(\u001b[0m\u001b[0;34m\"data\"\u001b[0m\u001b[0;34m,\u001b[0m \u001b[0;34m\"aoc.10.1_input.txt\"\u001b[0m \u001b[0;34m)\u001b[0m\u001b[0;34m\u001b[0m\u001b[0;34m\u001b[0m\u001b[0m\n\u001b[0;32m----> 2\u001b[0;31m \u001b[0mdata\u001b[0m \u001b[0;34m=\u001b[0m \u001b[0;34m[\u001b[0m\u001b[0mint\u001b[0m\u001b[0;34m(\u001b[0m\u001b[0mx\u001b[0m\u001b[0;34m)\u001b[0m \u001b[0;32mfor\u001b[0m \u001b[0mx\u001b[0m \u001b[0;32min\u001b[0m \u001b[0mopen\u001b[0m\u001b[0;34m(\u001b[0m\u001b[0mfname\u001b[0m\u001b[0;34m,\u001b[0m \u001b[0;34m'r'\u001b[0m\u001b[0;34m)\u001b[0m\u001b[0;34m.\u001b[0m\u001b[0mread\u001b[0m\u001b[0;34m(\u001b[0m\u001b[0;34m)\u001b[0m\u001b[0;34m.\u001b[0m\u001b[0msplitlines\u001b[0m\u001b[0;34m(\u001b[0m\u001b[0;34m)\u001b[0m\u001b[0;34m]\u001b[0m\u001b[0;34m\u001b[0m\u001b[0;34m\u001b[0m\u001b[0m\n\u001b[0m",
      "\u001b[0;31mFileNotFoundError\u001b[0m: [Errno 2] No such file or directory: 'data/aoc.10.1_input.txt'"
     ]
    }
   ],
   "source": [
    "# fname = os.path.join(\"data\", \"aoc.10.1_input.txt\" )\n",
    "# data = [int(x) for x in open(fname, 'r').read().splitlines()]"
   ]
  }
 ],
 "metadata": {
  "kernelspec": {
   "display_name": "Python 3",
   "language": "python",
   "name": "python3"
  },
  "language_info": {
   "codemirror_mode": {
    "name": "ipython",
    "version": 3
   },
   "file_extension": ".py",
   "mimetype": "text/x-python",
   "name": "python",
   "nbconvert_exporter": "python",
   "pygments_lexer": "ipython3",
   "version": "3.8.6"
  }
 },
 "nbformat": 4,
 "nbformat_minor": 4
}
